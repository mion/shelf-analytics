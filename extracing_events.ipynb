{
 "cells": [
  {
   "cell_type": "code",
   "execution_count": 118,
   "metadata": {},
   "outputs": [],
   "source": [
    "import matplotlib.pyplot as plt\n",
    "import json\n",
    "import numpy\n",
    "from scipy.signal import find_peaks, peak_widths, lfilter, lfilter_zi, filtfilt, butter"
   ]
  },
  {
   "cell_type": "code",
   "execution_count": 119,
   "metadata": {},
   "outputs": [],
   "source": [
    "def load_json(path):\n",
    "    with open(path, \"r\") as json_file:\n",
    "        return json.loads(json_file.read())\n",
    "    \n",
    "def smooth_without_delay(xn):\n",
    "    b, a = butter(1, 0.05)\n",
    "    # Apply the filter to xn.  Use lfilter_zi to choose the initial condition\n",
    "    # of the filter.\n",
    "    zi = lfilter_zi(b, a)\n",
    "    z, _ = lfilter(b, a, xn, zi=zi*xn[0])\n",
    "    # Apply the filter again, to have a result filtered at an order\n",
    "    # the same as filtfilt.\n",
    "    z2, _ = lfilter(b, a, z, zi=zi*z[0])\n",
    "    # Use filtfilt to apply the filter.\n",
    "    return filtfilt(b, a, xn)"
   ]
  },
  {
   "cell_type": "code",
   "execution_count": 120,
   "metadata": {},
   "outputs": [],
   "source": [
    "VIDEO_ID = \"video-33-p_04\"\n",
    "IAOT_PATH = \"/Users/gvieira/shan/{}/data/iaot.json\".format(VIDEO_ID)\n",
    "intersection_area_over_time = load_json(IAOT_PATH)"
   ]
  },
  {
   "cell_type": "code",
   "execution_count": 151,
   "metadata": {},
   "outputs": [
    {
     "data": {
      "text/plain": [
       "83"
      ]
     },
     "execution_count": 151,
     "metadata": {},
     "output_type": "execute_result"
    },
    {
     "data": {
      "image/png": "[encoded data removed]",
      "text/plain": [
       "<Figure size 432x288 with 1 Axes>"
      ]
     },
     "metadata": {},
     "output_type": "display_data"
    }
   ],
   "source": [
    "track_index = 3\n",
    "roi_name = \"right_front\"\n",
    "\n",
    "iaot = intersection_area_over_time[track_index][roi_name]\n",
    "X = []\n",
    "Y = []\n",
    "for i in range(len(iaot)):\n",
    "    X.append(iaot[i][\"index\"])\n",
    "    Y.append(iaot[i][\"area\"])\n",
    "\n",
    "plt.scatter(X, Y)\n",
    "iaot[0][\"index\"]"
   ]
  },
  {
   "cell_type": "code",
   "execution_count": 139,
   "metadata": {},
   "outputs": [
    {
     "data": {
      "text/plain": [
       "756"
      ]
     },
     "execution_count": 139,
     "metadata": {},
     "output_type": "execute_result"
    },
    {
     "data": {
      "image/png": "[encoded data removed]",
      "text/plain": [
       "<Figure size 432x288 with 1 Axes>"
      ]
     },
     "metadata": {},
     "output_type": "display_data"
    }
   ],
   "source": [
    "x = numpy.array(X)\n",
    "y = numpy.array(Y)\n",
    "smooth_y = smooth_without_delay(y)\n",
    "plt.plot(smooth_y)\n",
    "plt.plot(y)\n",
    "len(smooth_y)"
   ]
  },
  {
   "cell_type": "code",
   "execution_count": 149,
   "metadata": {},
   "outputs": [
    {
     "data": {
      "text/plain": [
       "[{'duration_in_frames': 19.580510943715808,\n",
       "  'duration_ms': 1958,\n",
       "  'frame_index': 686,\n",
       "  'intersection_area_in_pixels': 1493.3641270887497}]"
      ]
     },
     "execution_count": 149,
     "metadata": {},
     "output_type": "execute_result"
    }
   ],
   "source": [
    "indexes, props = find_peaks(smooth_y, height=300, width=7)\n",
    "\n",
    "peaks = []\n",
    "for i in range(len(indexes)):\n",
    "    frame_index = iaot[indexes[i]][\"index\"]\n",
    "    duration_in_frames = props[\"widths\"][i]\n",
    "    intersection_area_in_pixels = props[\"peak_heights\"][i]\n",
    "    duration_ms = int(1000 * (duration_in_frames / fps))\n",
    "    peaks.append({\n",
    "        'frame_index': frame_index,\n",
    "        'duration_in_frames': duration_in_frames,\n",
    "        'intersection_area_in_pixels': intersection_area_in_pixels,\n",
    "        'duration_ms': duration_ms\n",
    "    })\n",
    "\n",
    "peaks"
   ]
  },
  {
   "cell_type": "code",
   "execution_count": 150,
   "metadata": {},
   "outputs": [
    {
     "data": {
      "text/plain": [
       "[{'event_type': 'interacted', 'frame_index': 440}]"
      ]
     },
     "execution_count": 150,
     "metadata": {},
     "output_type": "execute_result"
    }
   ],
   "source": [
    "MIN_DURATION_MS_FOR_INTERACTED = 1800\n",
    "MIN_INTERSECTION_AREA_PX_FOR_INTERACTED = 1300\n",
    "fps = 10\n",
    "\n",
    "events = []\n",
    "\n",
    "for i in range(len(indexes)):\n",
    "    frame_index = indexes[i]\n",
    "    duration_in_frames = props[\"widths\"][i]\n",
    "    intersection_area_in_pixels = props[\"peak_heights\"][i]\n",
    "    \n",
    "    duration_ms = int(1000 * (duration_in_frames / fps))\n",
    "    if duration_ms > MIN_DURATION_MS_FOR_INTERACTED and intersection_area_in_pixels > MIN_INTERSECTION_AREA_PX_FOR_INTERACTED:\n",
    "        events.append({\n",
    "            \"frame_index\": frame_index,\n",
    "            \"event_type\": \"interacted\"\n",
    "        })\n",
    "\n",
    "events"
   ]
  },
  {
   "cell_type": "code",
   "execution_count": 146,
   "metadata": {},
   "outputs": [],
   "source": [
    "def extract_walked_event(iaot, fps, min_duration, min_area):\n",
    "    frame_indexes_over_time = []\n",
    "    area_over_time = []\n",
    "    for i in range(len(iaot)):\n",
    "        frame_indexes_over_time.append(iaot[i][\"index\"])\n",
    "        area_over_time.append(iaot[i][\"area\"])\n",
    "    min_frames_t = int((min_duration / 1000) * fps)\n",
    "    # min_frames_t = 2 sec x (10 fr / sec) = 20 frames\n",
    "    for t in range(len(area_over_time)):\n",
    "        if area_over_time[t] < min_area:\n",
    "            continue\n",
    "        small_area_found = False\n",
    "        for p in range(t, min(t + min_frames_t, len(area_over_time))):\n",
    "            if area_over_time[p] < min_area:\n",
    "                small_area_found = True\n",
    "                break\n",
    "        if not small_area_found:\n",
    "            return {\n",
    "                \"type\": \"walked\",\n",
    "                \"index\": frame_indexes_over_time[t]\n",
    "            }\n",
    "    return None\n",
    "\n",
    "extract_walked_event(iaot, 10, 1000, 2500)"
   ]
  },
  {
   "cell_type": "code",
   "execution_count": null,
   "metadata": {},
   "outputs": [],
   "source": []
  }
 ],
 "metadata": {
  "kernelspec": {
   "display_name": "Python 3",
   "language": "python",
   "name": "python3"
  },
  "language_info": {
   "codemirror_mode": {
    "name": "ipython",
    "version": 3
   },
   "file_extension": ".py",
   "mimetype": "text/x-python",
   "name": "python",
   "nbconvert_exporter": "python",
   "pygments_lexer": "ipython3",
   "version": "3.6.4"
  }
 },
 "nbformat": 4,
 "nbformat_minor": 2
}
