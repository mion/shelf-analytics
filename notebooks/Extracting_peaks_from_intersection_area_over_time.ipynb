{
 "cells": [
  {
   "cell_type": "code",
   "execution_count": 1,
   "metadata": {},
   "outputs": [],
   "source": [
    "import matplotlib.pyplot as plt\n",
    "import json\n",
    "import numpy\n",
    "from scipy.signal import find_peaks, peak_widths, lfilter, lfilter_zi, filtfilt, butter"
   ]
  },
  {
   "cell_type": "code",
   "execution_count": 2,
   "metadata": {},
   "outputs": [],
   "source": [
    "def smooth_without_delay(xn, butter_ord, butter_crit_freq):\n",
    "    # Butterworth filter\n",
    "    b, a = butter(butter_ord, butter_crit_freq)\n",
    "    # Apply the filter to xn.  Use lfilter_zi to choose the initial condition\n",
    "    # of the filter.\n",
    "    zi = lfilter_zi(b, a)\n",
    "    z, _ = lfilter(b, a, xn, zi=zi*xn[0])\n",
    "    # Apply the filter again, to have a result filtered at an order\n",
    "    # the same as filtfilt.\n",
    "    z2, _ = lfilter(b, a, z, zi=zi*z[0])\n",
    "    # Use filtfilt to apply the filter.\n",
    "    return filtfilt(b, a, xn)"
   ]
  },
  {
   "cell_type": "code",
   "execution_count": 5,
   "metadata": {},
   "outputs": [
    {
     "data": {
      "text/plain": [
       "<matplotlib.collections.PathCollection at 0x10aa52208>"
      ]
     },
     "execution_count": 5,
     "metadata": {},
     "output_type": "execute_result"
    },
    {
     "data": {
      "image/png": "[encoded data removed]",
      "text/plain": [
       "<Figure size 432x288 with 1 Axes>"
      ]
     },
     "metadata": {},
     "output_type": "display_data"
    }
   ],
   "source": [
    "iaot = numpy.array([0, 1, 2, 30, 400, 5000, 600, 70, 8, 9, 10])\n",
    "plt.scatter([i for i in range(len(iaot))], iaot)"
   ]
  },
  {
   "cell_type": "code",
   "execution_count": 6,
   "metadata": {},
   "outputs": [
    {
     "data": {
      "text/plain": [
       "<matplotlib.collections.PathCollection at 0x10aae3860>"
      ]
     },
     "execution_count": 6,
     "metadata": {},
     "output_type": "execute_result"
    },
    {
     "data": {
      "image/png": "[encoded data removed]",
      "text/plain": [
       "<Figure size 432x288 with 1 Axes>"
      ]
     },
     "metadata": {},
     "output_type": "display_data"
    }
   ],
   "source": [
    "smooth_iaot = smooth_without_delay(iaot, butter_ord=1, butter_crit_freq=0.05)\n",
    "plt.scatter([i for i in range(len(smooth_iaot))], smooth_iaot)"
   ]
  },
  {
   "cell_type": "code",
   "execution_count": null,
   "metadata": {},
   "outputs": [],
   "source": []
  }
 ],
 "metadata": {
  "kernelspec": {
   "display_name": "Python 3",
   "language": "python",
   "name": "python3"
  },
  "language_info": {
   "codemirror_mode": {
    "name": "ipython",
    "version": 3
   },
   "file_extension": ".py",
   "mimetype": "text/x-python",
   "name": "python",
   "nbconvert_exporter": "python",
   "pygments_lexer": "ipython3",
   "version": "3.6.4"
  }
 },
 "nbformat": 4,
 "nbformat_minor": 2
}
