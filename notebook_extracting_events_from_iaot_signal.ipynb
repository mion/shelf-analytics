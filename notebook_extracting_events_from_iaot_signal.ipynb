{
 "cells": [
  {
   "cell_type": "code",
   "execution_count": 73,
   "metadata": {},
   "outputs": [],
   "source": [
    "import matplotlib.pyplot as plt\n",
    "import json\n",
    "import numpy\n",
    "from scipy.signal import find_peaks, peak_widths, lfilter, lfilter_zi, filtfilt, butter"
   ]
  },
  {
   "cell_type": "code",
   "execution_count": 2,
   "metadata": {},
   "outputs": [],
   "source": [
    "def load_json(path):\n",
    "    with open(path, \"r\") as json_file:\n",
    "        return json.loads(json_file.read())"
   ]
  },
  {
   "cell_type": "code",
   "execution_count": 6,
   "metadata": {},
   "outputs": [],
   "source": [
    "intersection_area_over_time = load_json(\"/Users/gvieira/shan/video-42-p_03/iaot.json\")\n",
    "track_index = 0\n",
    "roi_name = \"area_in_front_of_left_shelf\""
   ]
  },
  {
   "cell_type": "code",
   "execution_count": 7,
   "metadata": {},
   "outputs": [],
   "source": [
    "   # Example:\n",
    "    #\n",
    "    # [{                    -> track_index = 0\n",
    "    #     \"roi_1\": [{       -> roi_name = \"roi_1\"\n",
    "    #         \"index\": 4,   -> index of the frame in the video\n",
    "    #         \"area\": 0,    -> intersection area\n",
    "    #         \"bbox\": null  -> bbox of the intersection area\n",
    "    #     }, {\n",
    "    #         \"index\": 5,\n",
    "    #         \"area\": 0,\n",
    "    #         \"bbox\": null\n",
    "    # ...\n",
    "    #"
   ]
  },
  {
   "cell_type": "code",
   "execution_count": 8,
   "metadata": {},
   "outputs": [],
   "source": [
    "iaot = intersection_area_over_time[track_index][roi_name]\n",
    "X = []\n",
    "Y = []\n",
    "for i in range(len(iaot)):\n",
    "    X.append(iaot[i][\"index\"])\n",
    "    Y.append(iaot[i][\"area\"])"
   ]
  },
  {
   "cell_type": "code",
   "execution_count": 9,
   "metadata": {},
   "outputs": [
    {
     "data": {
      "text/plain": [
       "<matplotlib.collections.PathCollection at 0x106604be0>"
      ]
     },
     "execution_count": 9,
     "metadata": {},
     "output_type": "execute_result"
    },
    {
     "data": {
      "image/png": "[encoded data removed]",
      "text/plain": [
       "<Figure size 432x288 with 1 Axes>"
      ]
     },
     "metadata": {},
     "output_type": "display_data"
    }
   ],
   "source": [
    "plt.scatter(X, Y)"
   ]
  },
  {
   "cell_type": "markdown",
   "metadata": {},
   "source": [
    "# Filtering with delay"
   ]
  },
  {
   "cell_type": "code",
   "execution_count": 20,
   "metadata": {},
   "outputs": [],
   "source": [
    "# SOURCE:\n",
    "# http://scipy-cookbook.readthedocs.io/items/SignalSmooth.html\n",
    "#\n",
    "def smooth(x,window_len=11,window='hanning'):\n",
    "    \"\"\"smooth the data using a window with requested size.\n",
    "    \n",
    "    This method is based on the convolution of a scaled window with the signal.\n",
    "    The signal is prepared by introducing reflected copies of the signal \n",
    "    (with the window size) in both ends so that transient parts are minimized\n",
    "    in the begining and end part of the output signal.\n",
    "    \n",
    "    input:\n",
    "        x: the input signal \n",
    "        window_len: the dimension of the smoothing window; should be an odd integer\n",
    "        window: the type of window from 'flat', 'hanning', 'hamming', 'bartlett', 'blackman'\n",
    "            flat window will produce a moving average smoothing.\n",
    "\n",
    "    output:\n",
    "        the smoothed signal\n",
    "        \n",
    "    example:\n",
    "\n",
    "    t=linspace(-2,2,0.1)\n",
    "    x=sin(t)+randn(len(t))*0.1\n",
    "    y=smooth(x)\n",
    "    \n",
    "    see also: \n",
    "    \n",
    "    numpy.hanning, numpy.hamming, numpy.bartlett, numpy.blackman, numpy.convolve\n",
    "    scipy.signal.lfilter\n",
    " \n",
    "    TODO: the window parameter could be the window itself if an array instead of a string\n",
    "    NOTE: length(output) != length(input), to correct this: return y[(window_len/2-1):-(window_len/2)] instead of just y.\n",
    "    \"\"\"\n",
    "\n",
    "    if x.ndim != 1:\n",
    "        raise ValueError(\"smooth only accepts 1 dimension arrays.\")\n",
    "\n",
    "    if x.size < window_len:\n",
    "        raise ValueError(\"Input vector needs to be bigger than window size.\")\n",
    "\n",
    "\n",
    "    if window_len<3:\n",
    "        return x\n",
    "\n",
    "\n",
    "    if not window in ['flat', 'hanning', 'hamming', 'bartlett', 'blackman']:\n",
    "        raise ValueError(\"Window is on of 'flat', 'hanning', 'hamming', 'bartlett', 'blackman'\")\n",
    "\n",
    "\n",
    "    s=numpy.r_[x[window_len-1:0:-1],x,x[-2:-window_len-1:-1]]\n",
    "    #print(len(s))\n",
    "    if window == 'flat': #moving average\n",
    "        w=np.ones(window_len,'d')\n",
    "    else:\n",
    "        w=eval('numpy.'+window+'(window_len)')\n",
    "\n",
    "    y=numpy.convolve(w/w.sum(),s,mode='valid')\n",
    "    return y\n"
   ]
  },
  {
   "cell_type": "code",
   "execution_count": 69,
   "metadata": {
    "scrolled": true
   },
   "outputs": [
    {
     "data": {
      "text/plain": [
       "[<matplotlib.lines.Line2D at 0x106a12a20>]"
      ]
     },
     "execution_count": 69,
     "metadata": {},
     "output_type": "execute_result"
    },
    {
     "data": {
      "image/png": "[encoded data removed]",
      "text/plain": [
       "<Figure size 432x288 with 1 Axes>"
      ]
     },
     "metadata": {},
     "output_type": "display_data"
    }
   ],
   "source": [
    "x = numpy.array(X)\n",
    "y = numpy.array(Y)\n",
    "smooth_y = smooth(y, window_len=5, window=\"hamming\")\n",
    "plt.plot(smooth_y)\n",
    "plt.plot(y)"
   ]
  },
  {
   "cell_type": "code",
   "execution_count": 70,
   "metadata": {},
   "outputs": [],
   "source": [
    "peaks, _ = find_peaks(smooth_y)\n",
    "widths, _, _, _ = peak_widths(smooth_y, peaks)"
   ]
  },
  {
   "cell_type": "code",
   "execution_count": 72,
   "metadata": {},
   "outputs": [
    {
     "data": {
      "text/plain": [
       "{'height': 17159.375, 'peaks': array([27]), 'width': 10.485768135291938}"
      ]
     },
     "execution_count": 72,
     "metadata": {},
     "output_type": "execute_result"
    }
   ],
   "source": [
    "{\"peaks\": peaks, \"height\": smooth_y[peaks[0]], \"width\": widths[0]}"
   ]
  },
  {
   "cell_type": "markdown",
   "metadata": {},
   "source": [
    "# Filtering without delay"
   ]
  },
  {
   "cell_type": "code",
   "execution_count": 86,
   "metadata": {},
   "outputs": [],
   "source": [
    "def smooth_without_delay(xn):\n",
    "    b, a = butter(1, 0.30)\n",
    "    # Apply the filter to xn.  Use lfilter_zi to choose the initial condition\n",
    "    # of the filter.\n",
    "    zi = lfilter_zi(b, a)\n",
    "    z, _ = lfilter(b, a, xn, zi=zi*xn[0])\n",
    "    # Apply the filter again, to have a result filtered at an order\n",
    "    # the same as filtfilt.\n",
    "    z2, _ = lfilter(b, a, z, zi=zi*z[0])\n",
    "    # Use filtfilt to apply the filter.\n",
    "    return filtfilt(b, a, xn)"
   ]
  },
  {
   "cell_type": "code",
   "execution_count": 89,
   "metadata": {},
   "outputs": [
    {
     "data": {
      "text/plain": [
       "[<matplotlib.lines.Line2D at 0x10844ac18>]"
      ]
     },
     "execution_count": 89,
     "metadata": {},
     "output_type": "execute_result"
    },
    {
     "data": {
      "image/png": "[encoded data removed]",
      "text/plain": [
       "<Figure size 432x288 with 1 Axes>"
      ]
     },
     "metadata": {},
     "output_type": "display_data"
    }
   ],
   "source": [
    "x = numpy.array(X)\n",
    "y = numpy.array(Y)\n",
    "smooth_y = smooth_without_delay(y)\n",
    "plt.plot(smooth_y)\n",
    "plt.plot(y)"
   ]
  },
  {
   "cell_type": "code",
   "execution_count": 99,
   "metadata": {},
   "outputs": [
    {
     "data": {
      "text/plain": [
       "[{'event_type': 'interacted', 'frame_index': 24}]"
      ]
     },
     "execution_count": 99,
     "metadata": {},
     "output_type": "execute_result"
    }
   ],
   "source": [
    "indexes, props = find_peaks(smooth_y, height=10000, width=7)\n",
    "\n",
    "MIN_DURATION_MS_FOR_INTERACTED = 1500\n",
    "MIN_INTERSECTION_AREA_PX_FOR_INTERACTED = 5000\n",
    "fps = 5\n",
    "\n",
    "events = []\n",
    "\n",
    "for i in range(len(indexes)):\n",
    "    frame_index = indexes[i]\n",
    "    duration_in_frames = props[\"widths\"][i]\n",
    "    intersection_area_in_pixels = props[\"peak_heights\"][i]\n",
    "    \n",
    "    duration_ms = int(1000 * (duration_in_frames / fps))\n",
    "    if duration_ms > MIN_DURATION_MS_FOR_INTERACTED and intersection_area_in_pixels > MIN_INTERSECTION_AREA_PX_FOR_INTERACTED:\n",
    "        events.append({\n",
    "            \"frame_index\": frame_index,\n",
    "            \"event_type\": \"interacted\"\n",
    "        })\n",
    "\n",
    "events"
   ]
  },
  {
   "cell_type": "code",
   "execution_count": null,
   "metadata": {},
   "outputs": [],
   "source": []
  }
 ],
 "metadata": {
  "kernelspec": {
   "display_name": "Python 3",
   "language": "python",
   "name": "python3"
  },
  "language_info": {
   "codemirror_mode": {
    "name": "ipython",
    "version": 3
   },
   "file_extension": ".py",
   "mimetype": "text/x-python",
   "name": "python",
   "nbconvert_exporter": "python",
   "pygments_lexer": "ipython3",
   "version": "3.6.4"
  }
 },
 "nbformat": 4,
 "nbformat_minor": 2
}
